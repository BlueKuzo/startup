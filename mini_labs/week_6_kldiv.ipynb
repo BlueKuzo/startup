{
  "cells": [
    {
      "cell_type": "markdown",
      "metadata": {
        "id": "u6ttuamEyFbx"
      },
      "source": [
        "<a href=\"https://colab.research.google.com/github/wingated/cs473/blob/main/mini_labs/week_6_kldiv.ipynb\"><img src=\"https://colab.research.google.com/assets/colab-badge.svg\" alt=\"Open In Colab\"/></a>\n",
        "\n",
        "\n",
        "# BYU CS 473 — KL Divergence\n",
        "\n",
        "In this assignment, you will learn the basics of **Kullback–Leibler (KL) divergence**. KL divergence measures how one probability distribution differs from another.\n",
        "\n",
        "---\n",
        "\n",
        "## Learning Goals\n",
        "- Understand the definition of KL divergence  \n",
        "- Compute KL divergence between two Gaussian distributions  \n",
        "- Understand why KL divergence is always non-negative  \n",
        "- Relate KL divergence to Maximum Likelihood Estimation (MLE)  \n",
        "- Compare forward vs reverse KL divergence\n"
      ]
    },
    {
      "cell_type": "markdown",
      "metadata": {
        "id": "DJk_TDsJyHCM"
      },
      "source": [
        "## 1. Definition\n",
        "\n",
        "For discrete distributions:\n",
        "\n",
        "$D_{\\text{KL}}(P \\,\\|\\, Q) = \\sum_x P(x) \\log \\frac{P(x)}{Q(x)}$\n",
        "\n",
        "For continuous distributions:\n",
        "\n",
        "$D_{\\text{KL}}(P \\,\\|\\, Q) = \\int p(x) \\log \\frac{p(x)}{q(x)} dx$\n",
        "\n",
        "- KL divergence is **not symmetric**: $D_{\\text{KL}}(P \\,\\|\\, Q) \\neq D_{\\text{KL}}(Q \\,\\|\\, P)$\n",
        "- KL divergence is **not a distance metric**, but it measures how well $Q$ approximates $P$.  \n"
      ]
    },
    {
      "cell_type": "markdown",
      "metadata": {
        "id": "jMdkhesVyLkS"
      },
      "source": [
        "### Exercise 1\n",
        "In your own words, explain what KL divergence measures.  \n",
        "Give a real-world analogy (e.g., communication, language modeling).\n"
      ]
    },
    {
      "cell_type": "markdown",
      "metadata": {
        "id": "f_tnXEO_yQXM"
      },
      "source": [
        "KL Divergence measures how well knowing something about x tells you something about y. For example, being a student at BYU suggests that you are likely LDS (Low KL). However, being LDS does not necessitate that you are a student at BYU (High KL)."
      ]
    },
    {
      "cell_type": "markdown",
      "metadata": {
        "id": "8MObNWP6yTAs"
      },
      "source": [
        "## 2. Example: KL Divergence Between Two Gaussians\n",
        "\n",
        "If $P = \\mathcal{N}(\\mu_p, \\sigma_p^2)$ and $Q = \\mathcal{N}(\\mu_q, \\sigma_q^2)$, the KL divergence is:\n",
        "\n",
        "$D_{\\text{KL}}(P \\,\\|\\, Q) = \\log \\frac{\\sigma_q}{\\sigma_p} + \\frac{\\sigma_p^2 + (\\mu_p - \\mu_q)^2}{2\\sigma_q^2} - \\frac{1}{2}$\n"
      ]
    },
    {
      "cell_type": "code",
      "execution_count": 12,
      "metadata": {
        "colab": {
          "base_uri": "https://localhost:8080/"
        },
        "id": "IMYIBMAOx8JX",
        "outputId": "bc2e9037-0645-4049-c45f-0ddecdcff111"
      },
      "outputs": [
        {
          "output_type": "stream",
          "name": "stdout",
          "text": [
            "KL(P||Q) with mu_p=0, sigma_p=1, mu_q=1, sigma_q=2:\n"
          ]
        },
        {
          "output_type": "execute_result",
          "data": {
            "text/plain": [
              "np.float64(0.4431471805599453)"
            ]
          },
          "metadata": {},
          "execution_count": 12
        }
      ],
      "source": [
        "import numpy as np\n",
        "\n",
        "def kl_gaussian(mu_p, sigma_p, mu_q, sigma_q):\n",
        "    return np.log(sigma_q/sigma_p) + (sigma_p**2 + (mu_p - mu_q)**2)/(2*sigma_q**2) - 0.5\n",
        "\n",
        "# Example\n",
        "print(\"KL(P||Q) with mu_p=0, sigma_p=1, mu_q=1, sigma_q=2:\")\n",
        "kl_gaussian(0, 1, 1, 2)"
      ]
    },
    {
      "cell_type": "markdown",
      "metadata": {
        "id": "GA0uPLquymuA"
      },
      "source": [
        "### Exercise 2\n",
        "- Compute ${\\text{KL}}(P \\,\\|\\, Q)$ for several pairs of Gaussian distributions.  \n",
        "- Which matters more: differences in mean, or differences in variance?  \n",
        "- Plot ${\\text{KL}}(P \\,\\|\\, Q)$ as $μ_q$ varies from -3 to 3, holding σ fixed.\n"
      ]
    },
    {
      "cell_type": "code",
      "execution_count": 6,
      "metadata": {
        "id": "6z97EccyypRm",
        "outputId": "521e1da9-228d-4655-f4e5-e870f95cb92f",
        "colab": {
          "base_uri": "https://localhost:8080/"
        }
      },
      "outputs": [
        {
          "output_type": "stream",
          "name": "stdout",
          "text": [
            "KL(P||Q) with mu_p= 0, sigma_p= 1, mu_q= 0, sigma_q= 1:\n",
            "0.0\n",
            "\n",
            "KL(P||Q) with mu_p= 0, sigma_p= 1, mu_q= 1, sigma_q= 1:\n",
            "0.5\n",
            "\n",
            "KL(P||Q) with mu_p= 0, sigma_p= 1, mu_q= 0, sigma_q= 2:\n",
            "0.3181471805599453\n",
            "\n",
            "KL(P||Q) with mu_p= 0, sigma_p= 2, mu_q= 0, sigma_q= 1:\n",
            "0.8068528194400546\n",
            "\n",
            "KL(P||Q) with mu_p= 1, sigma_p= 2, mu_q= -1, sigma_q= 1:\n",
            "2.8068528194400546\n",
            "\n",
            "KL(P||Q) with mu_p= 0, sigma_p= 0.5, mu_q= 2, sigma_q= 1:\n",
            "2.3181471805599454\n",
            "\n"
          ]
        }
      ],
      "source": [
        "pairs = [(0, 1, 0, 1), (0, 1, 1, 1), (0, 1, 0, 2), (0, 2, 0, 1), (1, 2, -1, 1), (0, 0.5, 2, 1)]\n",
        "\n",
        "for i in range(len(pairs)):\n",
        "  mu_p, sigma_p, mu_q, sigma_q = pairs[i]\n",
        "  print(\"KL(P||Q) with mu_p= \" + str(mu_p) + \", sigma_p= \" + str(sigma_p) + \", mu_q= \" + str(mu_q) + \", sigma_q= \" + str(sigma_q) + \":\")\n",
        "  print(kl_gaussian(mu_p, sigma_p, mu_q, sigma_q))\n",
        "  print()"
      ]
    },
    {
      "cell_type": "markdown",
      "source": [
        "Because KL measures the difference between sets, the average values of each set are what really matter. As such, a particularly large variance could affect things, but the mean is the real focus."
      ],
      "metadata": {
        "id": "dwoPKi_8WLNq"
      }
    },
    {
      "cell_type": "code",
      "source": [
        "import matplotlib.pyplot as plt\n",
        "\n",
        "mu_p = 0\n",
        "sigma_p = 1\n",
        "sigma_q = 1\n",
        "\n",
        "# Range of mu_q values\n",
        "mu_q_vals = np.linspace(-3, 3, 200)\n",
        "\n",
        "# Compute KL for each mu_q\n",
        "kl_vals = [kl_gaussian(mu_p, sigma_p, mu_q, sigma_q) for mu_q in mu_q_vals]\n",
        "\n",
        "# Plot\n",
        "plt.figure(figsize=(8, 5))\n",
        "plt.plot(mu_q_vals, kl_vals, color='navy', lw=2)\n",
        "plt.title(r\"KL$(\\mathcal{N}(0,1)\\|\\mathcal{N}(\\mu_q,1))$ vs $\\mu_q$\")\n",
        "plt.xlabel(r\"$\\mu_q$\")\n",
        "plt.ylabel(\"KL Divergence\")\n",
        "plt.grid(True, alpha=0.3)\n",
        "plt.show()"
      ],
      "metadata": {
        "id": "E9VpM7E4WOIQ",
        "outputId": "b3883629-38fa-4835-892d-2767c669aac5",
        "colab": {
          "base_uri": "https://localhost:8080/",
          "height": 492
        }
      },
      "execution_count": 7,
      "outputs": [
        {
          "output_type": "display_data",
          "data": {
            "text/plain": [
              "<Figure size 800x500 with 1 Axes>"
            ],
            "image/png": "[encoded data removed]"
          },
          "metadata": {}
        }
      ]
    },
    {
      "cell_type": "markdown",
      "metadata": {
        "id": "UJa1TCl1y305"
      },
      "source": [
        "## 3. Non-Negativity of KL Divergence\n",
        "\n",
        "**Gibbs’ Inequality**:  \n",
        "$D_{\\text{KL}}(P \\,\\|\\, Q) \\geq 0$\n",
        "\n",
        "with equality if and only if $P = Q$.  \n",
        "This means the \"distance\" is never negative.\n",
        "\n",
        "Intuition: if you approximate $P$ with $Q$, you can never do better than the true distribution.\n"
      ]
    },
    {
      "cell_type": "code",
      "execution_count": 8,
      "metadata": {
        "colab": {
          "base_uri": "https://localhost:8080/"
        },
        "id": "KT6i_B8Cy87F",
        "outputId": "640a42c7-b613-4d1c-bee8-a585b03d2f8e"
      },
      "outputs": [
        {
          "output_type": "execute_result",
          "data": {
            "text/plain": [
              "np.float64(0.020135513550688863)"
            ]
          },
          "metadata": {},
          "execution_count": 8
        }
      ],
      "source": [
        "# Quick numerical experiment\n",
        "p = np.array([0.4, 0.6])\n",
        "q = np.array([0.5, 0.5])\n",
        "kl = np.sum(p * np.log(p/q))\n",
        "kl\n"
      ]
    },
    {
      "cell_type": "markdown",
      "metadata": {
        "id": "_b2vZk2vzDeX"
      },
      "source": [
        "### Exercise 3\n",
        "- Construct two different discrete distributions $P$ and $Q$.  \n",
        "- Compute ${\\text{KL}}(P \\,\\|\\, Q)$ and ${\\text{KL}}(Q \\,\\|\\, P)$.  \n",
        "- Verify that both are ≥ 0.  \n",
        "- When do you get $\\text{KL} = 0$?\n"
      ]
    },
    {
      "cell_type": "code",
      "execution_count": 13,
      "metadata": {
        "id": "tB8fAzNyzFsj",
        "outputId": "bcb62482-0005-4f8f-8934-878f2e90fb53",
        "colab": {
          "base_uri": "https://localhost:8080/"
        }
      },
      "outputs": [
        {
          "output_type": "stream",
          "name": "stdout",
          "text": [
            "KL(P‖Q) = 0.1837868973868122\n",
            "KL(Q‖P) = 0.19204199316179812\n"
          ]
        }
      ],
      "source": [
        "import numpy as np\n",
        "\n",
        "P = np.array([0.7, 0.2, 0.1])\n",
        "Q = np.array([0.4, 0.4, 0.2])\n",
        "\n",
        "def kl_divergence(P, Q):\n",
        "    return np.sum(P * np.log(P / Q))\n",
        "\n",
        "kl_pq = kl_divergence(P, Q)\n",
        "kl_qp = kl_divergence(Q, P)\n",
        "\n",
        "print(\"KL(P‖Q) =\", kl_pq)\n",
        "print(\"KL(Q‖P) =\", kl_qp)\n"
      ]
    },
    {
      "cell_type": "markdown",
      "source": [
        "KL = 0 iff P == Q"
      ],
      "metadata": {
        "id": "tK65r-qcXzTf"
      }
    },
    {
      "cell_type": "markdown",
      "metadata": {
        "id": "1lM3qQB705rd"
      },
      "source": [
        "## 4. KL Divergence and Maximum Likelihood Estimation\n",
        "\n",
        "Suppose data is generated from distribution P, and we fit model Qθ.  \n",
        "\n",
        "- MLE maximizes likelihood:   \n",
        "  $\\theta^* = \\arg \\max_\\theta \\sum \\log q_\\theta(x_i)$\n",
        "- Equivalent to minimizing:  \n",
        "  $D_{\\text{KL}}(P \\,\\|\\, Q_\\theta)$\n",
        "\n",
        "Thus, **MLE is KL minimization**: we make our model Qθ as close as possible to the true distribution P.\n"
      ]
    },
    {
      "cell_type": "markdown",
      "metadata": {
        "id": "VA7V1Hq00_TP"
      },
      "source": [
        "### Exercise 4\n",
        "Explain in your own words:\n",
        "- Why minimizing ${\\text{KL}}(P \\,\\|\\, Q)$ is the same as maximizing likelihood.  \n",
        "- Why this interpretation helps us understand model training.\n"
      ]
    },
    {
      "cell_type": "markdown",
      "metadata": {
        "id": "ZB38w_Do1CVx"
      },
      "source": [
        "Well, if KL is a measure of how different two sets are, then it makes intuitive sense that lowering the value (the degree of difference) would increase the likelihood.\n",
        "\n",
        "This interpretation helps us see “minimizing  KL” in the light of better aligning our model with the true data."
      ]
    },
    {
      "cell_type": "markdown",
      "metadata": {
        "id": "0zp_9eQu1EAv"
      },
      "source": [
        "## 5. Forward vs Reverse KL\n",
        "\n",
        "- **Forward KL:** $D_{\\text{KL}}(P \\,\\|\\, Q)$  \n",
        "  - Penalizes missing modes ($Q$ must cover all support of $P$).  \n",
        "  - \"Mode covering.\"\n",
        "\n",
        "- **Reverse KL:** $D_{\\text{KL}}(Q \\,\\|\\, P)$  \n",
        "  - Penalizes putting mass where $P$ has none.  \n",
        "  - \"Mode seeking.\"\n",
        "\n",
        "This asymmetry explains why different algorithms (e.g. variational inference vs expectation propagation) behave differently.\n"
      ]
    },
    {
      "cell_type": "code",
      "execution_count": 10,
      "metadata": {
        "colab": {
          "base_uri": "https://localhost:8080/",
          "height": 452
        },
        "id": "zfPADqcr1MFa",
        "outputId": "3e0aee27-e959-41f2-d2fa-454e3c040ba3"
      },
      "outputs": [
        {
          "output_type": "display_data",
          "data": {
            "text/plain": [
              "<Figure size 640x480 with 1 Axes>"
            ],
            "image/png": "[encoded data removed]"
          },
          "metadata": {}
        }
      ],
      "source": [
        "import scipy.stats as stats\n",
        "\n",
        "x = np.linspace(-5, 5, 200)\n",
        "p = stats.norm(0, 1).pdf(x)   # true distribution\n",
        "q1 = stats.norm(0, 2).pdf(x)  # wide Q\n",
        "q2 = stats.norm(1, 0.5).pdf(x) # narrow Q\n",
        "\n",
        "plt.plot(x, p, label=\"P ~ N(0,1)\", linewidth=2)\n",
        "plt.plot(x, q1, label=\"Q wide\", linestyle=\"--\")\n",
        "plt.plot(x, q2, label=\"Q narrow\", linestyle=\":\")\n",
        "plt.legend()\n",
        "plt.title(\"P vs Q distributions\")\n",
        "plt.show()\n"
      ]
    },
    {
      "cell_type": "markdown",
      "metadata": {
        "id": "skx9kDw71RW8"
      },
      "source": [
        "### Exercise 5\n",
        "1. Compute both ${\\text{KL}}(P \\,\\|\\, Q)$ and ${\\text{KL}}(Q \\,\\|\\, P)$ for $P=N(0,1)$, $Q=N(1,0.5)$.  \n",
        "2. Which is larger? Why?  \n",
        "3. In which case would forward KL be more appropriate? Reverse KL?\n"
      ]
    },
    {
      "cell_type": "code",
      "execution_count": 14,
      "metadata": {
        "id": "GK1b-mHj1TxB",
        "outputId": "fecefff7-7b76-4f7f-ba53-ec5e75c8f71e",
        "colab": {
          "base_uri": "https://localhost:8080/"
        }
      },
      "outputs": [
        {
          "output_type": "stream",
          "name": "stdout",
          "text": [
            "Forward KL is larger\n"
          ]
        }
      ],
      "source": [
        "if kl_gaussian(0, 1, 1, .5) > kl_gaussian(1, 0.5, 0, 1):\n",
        "  print(\"Forward KL is larger\")\n",
        "else:\n",
        "  print(\"Reverse KL is larger\")"
      ]
    },
    {
      "cell_type": "markdown",
      "metadata": {
        "id": "M6spBnzJ1Wxb"
      },
      "source": [
        "## 6. Reflection\n",
        "\n",
        "### Exercise 6\n",
        "Answer in 2–3 sentences each:\n",
        "\n",
        "1. Why is KL divergence always non-negative?  \n",
        "2. How does KL divergence connect to MLE?  \n",
        "3. Why do forward and reverse KL behave differently?  \n"
      ]
    },
    {
      "cell_type": "markdown",
      "metadata": {
        "id": "NtTDdQ6K1aGw"
      },
      "source": [
        "Your response here"
      ]
    }
  ],
  "metadata": {
    "colab": {
      "provenance": []
    },
    "kernelspec": {
      "display_name": "Python 3",
      "name": "python3"
    },
    "language_info": {
      "name": "python"
    }
  },
  "nbformat": 4,
  "nbformat_minor": 0
}