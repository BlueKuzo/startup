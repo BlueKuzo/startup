{
  "nbformat": 4,
  "nbformat_minor": 0,
  "metadata": {
    "colab": {
      "provenance": []
    },
    "kernelspec": {
      "name": "python3",
      "display_name": "Python 3"
    },
    "language_info": {
      "name": "python"
    }
  },
  "cells": [
    {
      "cell_type": "markdown",
      "source": [
        "# BYU CS 473 — K-Nearest Neighbors\n",
        "\n",
        "In this assignment, you will explore **KNN classification** using different distance metrics, understand the **curse of dimensionality**, and learn how KNN can be adapted for **open set recognition** and **out-of-distribution (OOD) detection**.\n",
        "\n",
        "---\n",
        "\n",
        "## Learning Goals\n",
        "- Understand and compare different distance metrics in KNN\n",
        "- Explore the effect of high-dimensional data (curse of dimensionality)\n",
        "- Implement open set recognition with KNN\n",
        "- Apply KNN for simple OOD detection\n"
      ],
      "metadata": {
        "id": "AsB0Dm9b0lQ0"
      }
    },
    {
      "cell_type": "markdown",
      "source": [
        "## 1. Loading the Iris Dataset\n",
        "\n",
        "We begin with the Iris dataset.\n"
      ],
      "metadata": {
        "id": "I24FPtp61Aym"
      }
    },
    {
      "cell_type": "code",
      "source": [
        "from sklearn.datasets import load_iris\n",
        "from sklearn.model_selection import train_test_split\n",
        "from sklearn.preprocessing import StandardScaler\n",
        "\n",
        "# Load data\n",
        "iris = load_iris()\n",
        "X, y = iris.data, iris.target\n",
        "\n",
        "# Standardize\n",
        "scaler = StandardScaler()\n",
        "X = scaler.fit_transform(X)\n",
        "\n",
        "# Train-test split\n",
        "X_train, X_test, y_train, y_test = train_test_split(X, y, test_size=0.3, random_state=42)\n"
      ],
      "metadata": {
        "id": "0sXBQJaZ4088"
      },
      "execution_count": 1,
      "outputs": []
    },
    {
      "cell_type": "markdown",
      "source": [
        "### Exercise 1\n",
        "Print the shapes of the training and test sets, and display the first 5 rows of `X_train`.\n"
      ],
      "metadata": {
        "id": "ejdv-IEf12vW"
      }
    },
    {
      "cell_type": "code",
      "source": [
        "# Your code here\n",
        "print(\"X_train shape:\", X_train.shape)\n",
        "print(\"X_test shape:\", X_test.shape)\n",
        "print(\"y_train shape:\", y_train.shape)\n",
        "print(\"y_test shape:\", y_test.shape)\n",
        "print(\"\\nX_train:\\n\", X_train[:5])"
      ],
      "metadata": {
        "id": "wx2jHmRj5Gs4",
        "outputId": "a2e1a5bc-9918-4595-fb17-469d3dd50d66",
        "colab": {
          "base_uri": "https://localhost:8080/"
        }
      },
      "execution_count": 2,
      "outputs": [
        {
          "output_type": "stream",
          "name": "stdout",
          "text": [
            "X_train shape: (105, 4)\n",
            "X_test shape: (45, 4)\n",
            "y_train shape: (105,)\n",
            "y_test shape: (45,)\n",
            "\n",
            "X_train:\n",
            " [[-0.41600969 -1.51316008 -0.03296571 -0.26238682]\n",
            " [ 0.55333328 -0.59237301  0.76275827  0.3957741 ]\n",
            " [ 0.67450115  0.09821729  0.99010798  0.79067065]\n",
            " [ 0.91683689 -0.13197948  0.36489628  0.26414192]\n",
            " [ 1.64384411  1.24920112  1.33113254  1.71209594]]\n"
          ]
        }
      ]
    },
    {
      "cell_type": "markdown",
      "source": [
        "## 2. KNN with Different Distance Metrics\n",
        "\n",
        "KNN relies on a distance function to measure similarity. Common choices include:\n",
        "\n",
        "- **Euclidean** (straight-line distance)  \n",
        "- **Manhattan** (sum of absolute differences)  \n",
        "- **Chebyshev** (max difference)  \n",
        "- **Mahalanobis** (accounts for correlations between features)  \n"
      ],
      "metadata": {
        "id": "yYgIBug42JeR"
      }
    },
    {
      "cell_type": "code",
      "source": [
        "from sklearn.neighbors import KNeighborsClassifier\n",
        "from sklearn.metrics import accuracy_score\n",
        "import numpy as np\n",
        "\n",
        "V = np.cov(X_train, rowvar=False)\n",
        "VI = np.linalg.inv(V)\n",
        "\n",
        "distances = [\"euclidean\", \"manhattan\", \"chebyshev\", \"mahalanobis\"]\n",
        "\n",
        "for d in distances:\n",
        "    if d == \"mahalanobis\":\n",
        "        knn = KNeighborsClassifier(\n",
        "            n_neighbors=5,\n",
        "            metric=d,\n",
        "            metric_params={\"V\": V, \"VI\": VI}\n",
        "        )\n",
        "    else:\n",
        "        knn = KNeighborsClassifier(n_neighbors=5, metric=d)\n",
        "\n",
        "    knn.fit(X_train, y_train)\n",
        "    preds = knn.predict(X_test)\n",
        "    acc = accuracy_score(y_test, preds)\n",
        "    print(f\"Metric: {d}, Accuracy: {acc:.3f}\")"
      ],
      "metadata": {
        "colab": {
          "base_uri": "https://localhost:8080/"
        },
        "id": "7ukctd5p2YAo",
        "outputId": "b40fa37a-4eb9-4c3e-ecea-e33b27e9535c"
      },
      "execution_count": 3,
      "outputs": [
        {
          "output_type": "stream",
          "name": "stdout",
          "text": [
            "Metric: euclidean, Accuracy: 1.000\n",
            "Metric: manhattan, Accuracy: 1.000\n",
            "Metric: chebyshev, Accuracy: 0.956\n",
            "Metric: mahalanobis, Accuracy: 0.889\n"
          ]
        }
      ]
    },
    {
      "cell_type": "markdown",
      "source": [
        "### Exercise 2\n",
        "Add **Mahalanobis distance** to the code above.  \n",
        "Hint: compute the covariance matrix and pass it via `metric_params`.  \n",
        "\n",
        "Which distance metric performed best? Why might that be the case?"
      ],
      "metadata": {
        "id": "eJjkJjTi3Xuo"
      }
    },
    {
      "cell_type": "markdown",
      "source": [
        "Euclidean and Manhattan distances performed best. This is likely because the features are roughly independent and similarly scaled, making simple geometric distances effective. Chebyshev underperforms because it ignores multi-feature differences, and Mahalanobis doesn’t help much since the feature correlations are modest and the clusters are already well-separated without needing covariance adjustment."
      ],
      "metadata": {
        "id": "jyMLj1oZ6Omv"
      }
    },
    {
      "cell_type": "markdown",
      "source": [
        "## 3. Curse of Dimensionality\n",
        "\n",
        "As the number of features increases, distances between points become less meaningful.  \n",
        "We will test KNN on synthetic datasets with increasing dimensionality.\n"
      ],
      "metadata": {
        "id": "hDgKN3a26C1s"
      }
    },
    {
      "cell_type": "code",
      "source": [
        "from sklearn.datasets import make_classification\n",
        "import matplotlib.pyplot as plt\n",
        "from sklearn.neighbors import KNeighborsClassifier\n",
        "from sklearn.model_selection import train_test_split\n",
        "\n",
        "dims = range(2, 51, 4)\n",
        "euclidean_acc = []\n",
        "manhattan_acc = []\n",
        "\n",
        "for d in dims:\n",
        "    X_high, y_high = make_classification(\n",
        "        n_samples=1000,\n",
        "        n_features=d,\n",
        "        n_informative=2,\n",
        "        n_redundant=0,\n",
        "        n_repeated=0,\n",
        "        random_state=42\n",
        "    )\n",
        "    X_tr, X_te, y_tr, y_te = train_test_split(X_high, y_high, test_size=0.3, random_state=42)\n",
        "\n",
        "    # Euclidean\n",
        "    knn_euc = KNeighborsClassifier(n_neighbors=5, metric=\"euclidean\")\n",
        "    knn_euc.fit(X_tr, y_tr)\n",
        "    euclidean_acc.append(knn_euc.score(X_te, y_te))\n",
        "\n",
        "    # Manhattan\n",
        "    knn_man = KNeighborsClassifier(n_neighbors=5, metric=\"manhattan\")\n",
        "    knn_man.fit(X_tr, y_tr)\n",
        "    manhattan_acc.append(knn_man.score(X_te, y_te))\n",
        "\n",
        "# Plot both curves\n",
        "plt.plot(dims, euclidean_acc, marker=\"o\", label=\"Euclidean\")\n",
        "plt.plot(dims, manhattan_acc, marker=\"s\", label=\"Manhattan\")\n",
        "plt.xlabel(\"Number of Features\")\n",
        "plt.ylabel(\"Accuracy\")\n",
        "plt.title(\"Curse of Dimensionality in KNN\")\n",
        "plt.legend()\n",
        "plt.show()\n"
      ],
      "metadata": {
        "colab": {
          "base_uri": "https://localhost:8080/",
          "height": 472
        },
        "id": "PS6JrgpD6W7A",
        "outputId": "0a72d953-cfc8-432b-b57c-2a9147486fbe"
      },
      "execution_count": 4,
      "outputs": [
        {
          "output_type": "display_data",
          "data": {
            "text/plain": [
              "<Figure size 640x480 with 1 Axes>"
            ],
            "image/png": "[encoded data removed]"
          },
          "metadata": {}
        }
      ]
    },
    {
      "cell_type": "markdown",
      "source": [
        "### Exercise 3\n",
        "Modify the code above to also test **Manhattan distance** and plot both curves together.\n",
        "\n",
        "What happens to accuracy as dimensionality increases? Why?"
      ],
      "metadata": {
        "id": "h5wyZK_Y6gKm"
      }
    },
    {
      "cell_type": "markdown",
      "source": [
        "The general trend is that accuracy decreases with more dimensions. The basic reason for this is that some features are going to be inherently more useful than others, and adding less useful metrics just creates noise and confusion."
      ],
      "metadata": {
        "id": "XmzHMeba6pR4"
      }
    },
    {
      "cell_type": "markdown",
      "source": [
        "## 4. Open Set Recognition\n",
        "\n",
        "KNN assumes all test samples belong to known classes. But in practice, a test point may not belong to any training class.\n",
        "\n",
        "We simulate this by generating a synthetic \"unknown\" dataset.\n"
      ],
      "metadata": {
        "id": "Z0MfiL9X6vjz"
      }
    },
    {
      "cell_type": "code",
      "source": [
        "import numpy as np\n",
        "from sklearn.datasets import make_classification\n",
        "from sklearn.neighbors import KNeighborsClassifier\n",
        "\n",
        "# Synthetic unknown samples\n",
        "X_unknown, _ = make_classification(n_samples=200, n_features=4, n_classes=1, random_state=99)\n",
        "\n",
        "# Fit KNN on known data\n",
        "knn = KNeighborsClassifier(n_neighbors=5, metric=\"euclidean\")\n",
        "knn.fit(X_train, y_train)\n",
        "\n",
        "# Get distances to the nearest neighbor\n",
        "distances, indices = knn.kneighbors(X_unknown, n_neighbors=1)\n",
        "distances = distances.flatten()\n",
        "\n",
        "# Set a threshold for \"unknown\" classification\n",
        "threshold = 1.5  # adjust based on your data scale\n",
        "\n",
        "# Classify as unknown if distance exceeds threshold\n",
        "predicted_labels = []\n",
        "for i, dist in enumerate(distances):\n",
        "    if dist > threshold:\n",
        "        predicted_labels.append(\"unknown\")\n",
        "    else:\n",
        "        predicted_labels.append(knn.predict(X_unknown[i].reshape(1, -1))[0])\n",
        "\n",
        "predicted_labels = np.array(predicted_labels)\n",
        "print(\"Unique predictions including 'unknown':\", np.unique(predicted_labels))\n"
      ],
      "metadata": {
        "colab": {
          "base_uri": "https://localhost:8080/"
        },
        "id": "3g-mQBG8662a",
        "outputId": "8c34460e-d1e8-4e11-f6dc-8f2198d0442f"
      },
      "execution_count": 5,
      "outputs": [
        {
          "output_type": "stream",
          "name": "stdout",
          "text": [
            "Unique predictions including 'unknown': ['0' '1' '2' 'unknown']\n"
          ]
        }
      ]
    },
    {
      "cell_type": "markdown",
      "source": [
        "### Exercise 4\n",
        "Modify the code to compute the distance to the nearest neighbor for each unknown sample.  \n",
        "If the distance is above a threshold, classify it as **unknown**.\n",
        "\n",
        "How does thresholding improve open set recognition?"
      ],
      "metadata": {
        "id": "gAYRibin7AFB"
      }
    },
    {
      "cell_type": "markdown",
      "source": [
        "With thresholding, the classifier can explicitly reject inputs that are likely from a class it has never seen."
      ],
      "metadata": {
        "id": "eb2Vch9T7LGr"
      }
    },
    {
      "cell_type": "markdown",
      "source": [
        "## 5. Out-of-Distribution (OOD) Detection\n",
        "\n",
        "OOD detection identifies samples that do not belong to the same distribution as the training data.\n"
      ],
      "metadata": {
        "id": "rYJI45UV7M3V"
      }
    },
    {
      "cell_type": "code",
      "source": [
        "from sklearn.metrics import pairwise_distances\n",
        "\n",
        "in_dist = pairwise_distances(X_test, X_train).min(axis=1)\n",
        "out_dist = pairwise_distances(X_unknown, X_train).min(axis=1)\n",
        "\n",
        "print(\"Average distance (in-distribution):\", np.mean(in_dist))\n",
        "print(\"Average distance (OOD):\", np.mean(out_dist))\n",
        "\n",
        "# Plot histograms\n",
        "plt.figure(figsize=(8,5))\n",
        "plt.hist(in_dist, bins=30, alpha=0.7, label=\"In-distribution (X_test)\")\n",
        "plt.hist(out_dist, bins=30, alpha=0.7, label=\"Out-of-distribution (X_unknown)\")\n",
        "plt.xlabel(\"Distance to nearest neighbor\")\n",
        "plt.ylabel(\"Count\")\n",
        "plt.title(\"Histogram of Nearest Neighbor Distances\")\n",
        "plt.legend()\n",
        "plt.show()"
      ],
      "metadata": {
        "colab": {
          "base_uri": "https://localhost:8080/",
          "height": 523
        },
        "id": "SjNEK4SU7q-z",
        "outputId": "a1b00fdc-79ed-41cd-8901-b764c1d0d878"
      },
      "execution_count": 6,
      "outputs": [
        {
          "output_type": "stream",
          "name": "stdout",
          "text": [
            "Average distance (in-distribution): 0.31853062619139316\n",
            "Average distance (OOD): 1.2213708916568842\n"
          ]
        },
        {
          "output_type": "display_data",
          "data": {
            "text/plain": [
              "<Figure size 800x500 with 1 Axes>"
            ],
            "image/png": "[encoded data removed]"
          },
          "metadata": {}
        }
      ]
    },
    {
      "cell_type": "markdown",
      "source": [
        "## Exersise 5\n",
        "Plot histograms of `in_dist` and `out_dist` on the same figure.  \n",
        "What do you observe?\n",
        "Suggest a thresholding rule to separate in-distribution from OOD samples."
      ],
      "metadata": {
        "id": "UBq7kKPC7Vfn"
      }
    },
    {
      "cell_type": "markdown",
      "source": [
        "The vast majority of OOD samples are more than about .75 units away from their nearest neighbor. \"About .75 units\" is also the furthest an ID sample is from its nearest neighbor. As such, .75 seems a reasonable threshold."
      ],
      "metadata": {
        "id": "8RifsU3s7vTN"
      }
    },
    {
      "cell_type": "markdown",
      "source": [
        "## 6. Reflection\n",
        "\n",
        "1. Which distance metric was most robust?  \n",
        "2. How did dimensionality affect KNN performance?  \n",
        "3. Why is open set recognition important?  \n",
        "4. How might KNN be adapted for stronger OOD detection?  \n"
      ],
      "metadata": {
        "id": "hlWQTI3_80nF"
      }
    },
    {
      "cell_type": "markdown",
      "source": [
        "1. For this dataset, Euclidean and Manhattan distances performed best.\n",
        "2. KNN performance falls as dimensionality increases.\n",
        "3. Open set recognition is important because it allows the classifier to explicitly reject inputs that are likely from a class it has never seen.\n",
        "4. KNN could be adapted for stronger OOD detection by using weighted distances based on local density."
      ],
      "metadata": {
        "id": "NfrLpfuc88og"
      }
    }
  ]
}