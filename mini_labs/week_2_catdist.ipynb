{
  "cells": [
    {
      "cell_type": "markdown",
      "metadata": {
        "id": "U-6pJNZAfRAK"
      },
      "source": [
        "<a href=\"https://colab.research.google.com/github/wingated/cs473/blob/main/mini_labs/week_2_catdist.ipynb\"><img src=\"https://colab.research.google.com/assets/colab-badge.svg\" alt=\"Open In Colab\"/></a>\n",
        "\n",
        "# BYU CS 473 — Categorical Distribution\n",
        "\n",
        "### IMPORTANT: The assignment portion is in part 6\n",
        "\n",
        "---\n",
        "\n",
        "## Learning Goals\n",
        "- Understand the concept of categorical distribution  \n",
        "- Understand how to use One-Hot Encoding to sort categorical data  \n",
        "- Understand how to use multinomial distribution to model categorical data  \n",
        "\n"
      ]
    },
    {
      "cell_type": "markdown",
      "metadata": {
        "id": "Lrhyozefe_04"
      },
      "source": [
        "## 1. Introduction to Categorical Distribution\n",
        "\n",
        "The **categorical distribution** describes the probability of a random variable that can take on one of *k* possible categories, with each having its own probability.\n",
        "\n",
        "- Example: Rolling a 3-sided die (with outcomes `{A, B, C}`).\n",
        "- Each category has a probability:  \n",
        "  $P(X = i) = p_i, \\quad \\text{where } \\sum_{i=1}^k p_i = 1$\n",
        "\n",
        "We often represent the outcome using **One-Hot encoding**.\n"
      ]
    },
    {
      "cell_type": "markdown",
      "metadata": {
        "id": "kP7XAQE1f2T2"
      },
      "source": [
        "## 2. One-Hot Encoding\n",
        "\n",
        "Categorical data is often encoded numerically for machine learning.  \n",
        "**One-Hot Encoding** represents each category as a binary vector with a `1` in the position of the chosen category.\n",
        "\n",
        "Example:  \n",
        "- Categories: `[\"A\", \"B\", \"C\"]`  \n",
        "- Sample outcome: `\"B\"`  \n",
        "- One-Hot: `[0, 1, 0]`\n"
      ]
    },
    {
      "cell_type": "code",
      "execution_count": 121,
      "metadata": {
        "colab": {
          "base_uri": "https://localhost:8080/"
        },
        "id": "hL8DaK8OgDey",
        "outputId": "7198b70f-1bd4-4f17-f7bb-9b0cd26921d3"
      },
      "outputs": [
        {
          "output_type": "execute_result",
          "data": {
            "text/plain": [
              "array([[1., 0., 0.],\n",
              "       [0., 1., 0.],\n",
              "       [0., 0., 1.],\n",
              "       [1., 0., 0.],\n",
              "       [0., 1., 0.],\n",
              "       [0., 0., 1.],\n",
              "       [1., 0., 0.]])"
            ]
          },
          "metadata": {},
          "execution_count": 121
        }
      ],
      "source": [
        "# Example: One-hot encoding with sklearn\n",
        "from sklearn.preprocessing import OneHotEncoder\n",
        "import numpy as np\n",
        "\n",
        "# Example categorical samples\n",
        "samples = [\"A\", \"B\", \"C\", \"A\", \"B\", \"C\", \"A\"]\n",
        "\n",
        "# Reshape to column vector for encoder\n",
        "X = np.array(samples).reshape(-1, 1)\n",
        "\n",
        "encoder = OneHotEncoder(sparse_output=False)\n",
        "X_encoded = encoder.fit_transform(X)\n",
        "X_encoded\n"
      ]
    },
    {
      "cell_type": "markdown",
      "metadata": {
        "id": "rAelqXqpgHOh"
      },
      "source": [
        "## 3. Multinomial Distribution\n",
        "\n",
        "The **multinomial distribution** extends the categorical distribution to multiple trials.  \n",
        "- Instead of one outcome, we have `n` trials.  \n",
        "- The probability of each outcome depends on the categorical probabilities.  \n",
        "\n",
        "Example: Tossing a 3-sided die 20 times.\n"
      ]
    },
    {
      "cell_type": "code",
      "execution_count": 122,
      "metadata": {
        "colab": {
          "base_uri": "https://localhost:8080/"
        },
        "id": "6PSttWo1gJ2R",
        "outputId": "1d9c9204-331e-44a6-f2d9-6a48aa604ad5"
      },
      "outputs": [
        {
          "output_type": "execute_result",
          "data": {
            "text/plain": [
              "array([7, 9, 4])"
            ]
          },
          "metadata": {},
          "execution_count": 122
        }
      ],
      "source": [
        "# Example: Multinomial distribution with numpy\n",
        "\n",
        "# Define probability distribution over 3 categories\n",
        "probs = [0.2, 0.5, 0.3]  # must sum to 1\n",
        "n_trials = 20\n",
        "multinomial_sample = np.random.multinomial(n_trials, probs)\n",
        "multinomial_sample\n"
      ]
    },
    {
      "cell_type": "markdown",
      "metadata": {
        "id": "jdtCkPAjgPYc"
      },
      "source": [
        "## 4. Visualization of Categorical vs Multinomial Distribution\n",
        "We can visualize:\n",
        "\n",
        "1. **Categorical Distribution Simulation** — outcomes from repeated categorical trials.\n",
        "2. **Multinomial Distribution** — outcome counts over multiple trials."
      ]
    },
    {
      "cell_type": "code",
      "execution_count": 123,
      "metadata": {
        "colab": {
          "base_uri": "https://localhost:8080/",
          "height": 938
        },
        "id": "iLN2otCZg7A3",
        "outputId": "dcc5113f-ace5-4fa5-eef9-e5b12af0f305"
      },
      "outputs": [
        {
          "output_type": "display_data",
          "data": {
            "text/plain": [
              "<Figure size 1200x500 with 1 Axes>"
            ],
            "image/png": "[encoded data removed]"
          },
          "metadata": {}
        },
        {
          "output_type": "display_data",
          "data": {
            "text/plain": [
              "<Figure size 800x500 with 1 Axes>"
            ],
            "image/png": "[encoded data removed]"
          },
          "metadata": {}
        }
      ],
      "source": [
        "import matplotlib.pyplot as plt\n",
        "\n",
        "# Define categories and probabilities\n",
        "categories = [\"A\", \"B\", \"C\"]\n",
        "probs = [0.2, 0.5, 0.3]\n",
        "\n",
        "# Parameters\n",
        "n_trials = 1000\n",
        "results = np.random.choice(categories, size=n_trials, p=probs)\n",
        "\n",
        "# Count frequencies (Categorical simulation)\n",
        "counts = [np.sum(results == c) for c in categories]\n",
        "\n",
        "# Plot categorical simulation\n",
        "plt.figure(figsize=(12, 5))\n",
        "\n",
        "plt.subplot(1, 2, 1)\n",
        "plt.bar(categories, counts, color=\"skyblue\", edgecolor=\"black\")\n",
        "plt.title(\"Categorical Distribution Simulation\")\n",
        "plt.xlabel(\"Category\")\n",
        "plt.ylabel(\"Count\")\n",
        "\n",
        "import seaborn as sns\n",
        "\n",
        "# Run many multinomial experiments\n",
        "n_experiments = 500\n",
        "n_per_experiment = 20\n",
        "multi_samples = np.random.multinomial(n_per_experiment, probs, size=n_experiments)\n",
        "\n",
        "# Convert to DataFrame for plotting\n",
        "import pandas as pd\n",
        "df = pd.DataFrame(multi_samples, columns=categories)\n",
        "\n",
        "# Boxplot\n",
        "plt.figure(figsize=(8,5))\n",
        "sns.boxplot(data=df)\n",
        "plt.title(\"Distribution of Multinomial Counts Across Experiments\")\n",
        "plt.ylabel(\"Count per Category\")\n",
        "plt.show()\n",
        "\n"
      ]
    },
    {
      "cell_type": "markdown",
      "metadata": {
        "id": "ibuOozXngb9r"
      },
      "source": [
        "## 5. Summary\n",
        "\n",
        "- **Categorical Distribution** models a single trial with multiple categories.  \n",
        "- **One-Hot Encoding** represents categories numerically.  \n",
        "- **Multinomial Distribution** generalizes the categorical distribution to multiple trials.  \n",
        "\n",
        "These concepts are fundamental in probability, statistics, and machine learning when handling categorical data.\n"
      ]
    },
    {
      "cell_type": "markdown",
      "metadata": {
        "id": "yOpb5RbviIgK"
      },
      "source": [
        "# 6. Exercises\n",
        "### Exercise 1\n",
        "Create a categorical distribution with 4 categories of your choice and assign probabilities.  \n",
        "- Sample 20 outcomes.  \n",
        "- Print the frequency of each category.  "
      ]
    },
    {
      "cell_type": "code",
      "execution_count": 124,
      "metadata": {
        "id": "eK9eRQsyiUTB",
        "colab": {
          "base_uri": "https://localhost:8080/"
        },
        "outputId": "d2282ecd-5d39-429f-f33a-c067b2361d06"
      },
      "outputs": [
        {
          "output_type": "stream",
          "name": "stdout",
          "text": [
            "A: 6\n",
            "B: 1\n",
            "C: 8\n",
            "D: 5\n"
          ]
        }
      ],
      "source": [
        "mySamples = [\"A\", \"B\", \"C\", \"D\"]\n",
        "freq = [.3, .15, .35, .2]\n",
        "outcomes = np.random.choice(mySamples, size=20, p=freq)\n",
        "unique_outcomes, counts = np.unique(outcomes, return_counts=True)\n",
        "\n",
        "for category, count in zip(unique_outcomes, counts):\n",
        "    print(f\"{category}: {count}\")"
      ]
    },
    {
      "cell_type": "markdown",
      "metadata": {
        "id": "SYFdeL7Kitmu"
      },
      "source": [
        "### Exercise 2\n",
        "Using your sampled outcomes from Exercise 1, perform One-Hot Encoding.  \n",
        "- Show the first 5 encoded vectors.  \n"
      ]
    },
    {
      "cell_type": "code",
      "execution_count": 125,
      "metadata": {
        "id": "-ShrE8x2i3Bd",
        "colab": {
          "base_uri": "https://localhost:8080/"
        },
        "outputId": "31bcf70c-3d3a-4208-d592-de4871178e46"
      },
      "outputs": [
        {
          "output_type": "stream",
          "name": "stdout",
          "text": [
            "Sampled outcomes: ['C' 'A' 'A' 'C' 'A']\n",
            "One-hot encodings (first 5):\n",
            "[[0. 0. 1. 0.]\n",
            " [1. 0. 0. 0.]\n",
            " [1. 0. 0. 0.]\n",
            " [0. 0. 1. 0.]\n",
            " [1. 0. 0. 0.]]\n"
          ]
        }
      ],
      "source": [
        "X = np.array(outcomes).reshape(-1, 1)\n",
        "\n",
        "encoder = OneHotEncoder(sparse_output=False)\n",
        "X_encoded = encoder.fit_transform(X)\n",
        "\n",
        "print(\"Sampled outcomes:\", outcomes[:5])\n",
        "print(\"One-hot encodings (first 5):\")\n",
        "print(X_encoded[:5])"
      ]
    },
    {
      "cell_type": "markdown",
      "metadata": {
        "id": "VMyepjb9i5V_"
      },
      "source": [
        "### Exercise 3\n",
        "Run 100 experiments of 10 trials each using the multinomial distribution.  \n",
        "- Record the counts.  \n",
        "- Compare the average counts to the theoretical probabilities.  \n"
      ]
    },
    {
      "cell_type": "code",
      "execution_count": 126,
      "metadata": {
        "id": "vBtMx2K3jb0C",
        "colab": {
          "base_uri": "https://localhost:8080/"
        },
        "outputId": "bce5ac8a-1033-40c5-ec6a-be2e9ed860bb"
      },
      "outputs": [
        {
          "output_type": "stream",
          "name": "stdout",
          "text": [
            "Average counts across experiments: [3.12 1.32 3.26 2.3 ]\n",
            "Theoretical probabilities: [0.3, 0.15, 0.35, 0.2]\n"
          ]
        }
      ],
      "source": [
        "n_experiments = 100\n",
        "trials_per_experiment = 10\n",
        "\n",
        "samples = np.random.multinomial(trials_per_experiment, freq, size=n_experiments)\n",
        "avg_counts = samples.mean(axis=0)\n",
        "\n",
        "print(\"Average counts across experiments:\", avg_counts)\n",
        "print(\"Theoretical probabilities:\", freq)\n"
      ]
    },
    {
      "cell_type": "markdown",
      "metadata": {
        "id": "xPaC97Dfjdaw"
      },
      "source": [
        "### Exercise 4\n",
        "Plot a histogram showing the distribution of counts for one category (e.g., \"B\") across multiple multinomial experiments.  \n",
        "- What shape does the histogram resemble?  \n",
        "- Why do you think that is?  \n"
      ]
    },
    {
      "cell_type": "code",
      "execution_count": 127,
      "metadata": {
        "id": "PMghTCBDjj-d",
        "colab": {
          "base_uri": "https://localhost:8080/",
          "height": 564
        },
        "outputId": "778a1fae-2e9c-44e5-a7b8-4d7e0df40fcb"
      },
      "outputs": [
        {
          "output_type": "display_data",
          "data": {
            "text/plain": [
              "<Figure size 1000x600 with 1 Axes>"
            ],
            "image/png": "[encoded data removed]"
          },
          "metadata": {}
        }
      ],
      "source": [
        "import matplotlib.pyplot as plt\n",
        "\n",
        "n_categories = len(mySamples)\n",
        "colors = ['red', 'yellow', 'blue', 'green']\n",
        "\n",
        "# Get counts for each category\n",
        "counts_list = [samples[:, i] for i in range(n_categories)]\n",
        "\n",
        "# Determine the range of counts for x-axis\n",
        "min_count = 0\n",
        "max_count = max(samples.flatten())\n",
        "\n",
        "# Width of each bar\n",
        "width = 1 / (n_categories + 1)\n",
        "\n",
        "# x positions for bins\n",
        "bins = np.arange(min_count, max_count+1)\n",
        "\n",
        "plt.figure(figsize=(10,6))\n",
        "\n",
        "for i, counts in enumerate(counts_list):\n",
        "    # Histogram for this category\n",
        "    hist, _ = np.histogram(counts, bins=np.arange(min_count, max_count+2)-0.5)\n",
        "    # Convert frequency to percentage\n",
        "    hist_percent = (hist / len(samples)) * 100\n",
        "    # Shift bars to the side for grouping\n",
        "    plt.bar(bins + i*width, hist_percent, width=width, color=colors[i], label=mySamples[i], edgecolor='black')\n",
        "\n",
        "plt.title('Distribution of Counts for All Categories Across ' + str(n_experiments) + ' Experiments')\n",
        "plt.xlabel('Count in ' + str(trials_per_experiment) + ' Trials')\n",
        "plt.ylabel('Percentage of Experiments (%)')\n",
        "plt.xticks(bins + width*(n_categories-1)/2, bins)  # Center x-ticks under groups\n",
        "plt.legend()\n",
        "plt.show()"
      ]
    },
    {
      "cell_type": "markdown",
      "metadata": {
        "id": "i3DQwMifjote"
      },
      "source": [
        "They all have a sort of bell shape. They all have their individual peak, with frequency tapering off in each direction, but the peak is different for each value.\n",
        "\n",
        "My educated guess is that this happens due to the relative frequency. For example, C has a frequency of 35%, so you'd expect it to show up 3 or 4 times in each trial. It's not unexpected for it to show up one time more or less, but as you increase (or decrease) the count, it gets increasingly less expected."
      ]
    },
    {
      "cell_type": "markdown",
      "metadata": {
        "id": "NQJVZL7ZjeOb"
      },
      "source": [
        "### Exercise 5\n",
        "Answer in text (2–3 sentences each):\n",
        "\n",
        "1. How does the categorical distribution differ from the multinomial distribution?  \n",
        "2. Why is One-Hot encoding important for machine learning models?  \n",
        "3. If you increased the number of trials in the multinomial distribution, what would happen to the observed frequencies? Why?\n"
      ]
    },
    {
      "cell_type": "markdown",
      "metadata": {
        "id": "kuT6izLcjszA"
      },
      "source": [
        "1. How does the categorical distribution differ from the multinomial distribution?\n",
        "\n",
        "Categorical Distribution models a single trial with multiple categories. Multinomial Distribution generalizes the categorical distribution to multiple trials.\n",
        "\n",
        "2. Why is One-Hot encoding important for machine learning models?\n",
        "\n",
        "One-Hot Encoding represents each category as a binary vector, which allows it to be used in weight adjusting for ML algorithms. Using other values would, at best, require a more hands-on conversion to be used.\n",
        "\n",
        "3. If you increased the number of trials in the multinomial distribution, what would happen to the observed frequencies? Why?\n",
        "\n",
        "The frequencies would increasingly reflect their theoretical probabilities as the sample size increases. Luck plays a big part in any single event, but as sample sizes increase, luck begins to give way to the law of large numbers and patterns of probability."
      ]
    }
  ],
  "metadata": {
    "colab": {
      "provenance": []
    },
    "kernelspec": {
      "display_name": "Python 3",
      "name": "python3"
    },
    "language_info": {
      "name": "python"
    }
  },
  "nbformat": 4,
  "nbformat_minor": 0
}