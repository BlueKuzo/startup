{
  "cells": [
    {
      "cell_type": "markdown",
      "metadata": {
        "id": "IPir_6bCCFnZ"
      },
      "source": [
        "<a href=\"https://colab.research.google.com/github/wingated/cs473/blob/main/labs/cs473_lab_week_6.ipynb\" target=\"_parent\"><img src=\"https://colab.research.google.com/assets/colab-badge.svg\" alt=\"Open In Colab\"/></a><p><b>After clicking the \"Open in Colab\" link, copy the notebook to your own Google Drive before getting started, or it will not save your work</b></p>"
      ]
    },
    {
      "cell_type": "markdown",
      "metadata": {
        "id": "_slaQdUGCB0t"
      },
      "source": [
        "# BYU CS 473 Lab Week 6"
      ]
    },
    {
      "cell_type": "markdown",
      "metadata": {
        "id": "ct7fnkcnCL8O"
      },
      "source": [
        "## Introduction:\n",
        "\n",
        "The concept of mutual information is powerful in theory, but in practice it can be difficult to estimate. In this lab, you will implement a conceptually simple way to estimate the mutual information between two random variables. It is known as the KSG estimator (from \"Kraskov–Stögbauer–Grassberger\").\n",
        "\n",
        "You will then use your estimator as part of a feature selection algorithm."
      ]
    },
    {
      "cell_type": "markdown",
      "metadata": {
        "id": "PUat5xRAcdrC"
      },
      "source": [
        "---\n",
        "## Grading standards   \n",
        "\n",
        "Your notebook will be graded on the following:\n",
        "\n",
        "* 60% Correct implementation of KSG estimator\n",
        "* 20% Correct implementation of \"all_mutual_inf\"\n",
        "* 20% Correct selection of most informative columns"
      ]
    },
    {
      "cell_type": "markdown",
      "metadata": {
        "id": "ywWcDzoi9cEv"
      },
      "source": [
        "---\n",
        "## Description\n",
        "\n",
        "For this lab, we will use this dataset [lab_week_6_data.csv](https://github.com/wingated/cs473/blob/main/labs/data/lab_week_6_data.csv).\n",
        "\n",
        "Download the csv from the link above, then upload the csv to your current google colab runtime.\n",
        "\n",
        "Then begin by loading and preparing the dataset:"
      ]
    },
    {
      "cell_type": "code",
      "execution_count": 22,
      "metadata": {
        "id": "U-golbf-9cEv"
      },
      "outputs": [],
      "source": [
        "import pandas as pd\n",
        "import numpy as np\n",
        "\n",
        "df = pd.read_csv( \"lab_week_6_data.csv\" )\n",
        "\n",
        "X = df[['x1','x2','x3','x4','x5', 'x6', 'x7']]\n",
        "y = df['y']\n",
        "\n",
        "X = np.array(X)\n",
        "y = np.array(y)\n"
      ]
    },
    {
      "cell_type": "markdown",
      "metadata": {
        "id": "Rhj19dgo9cEw"
      },
      "source": [
        "The KSG estimator is an elegant idea that's fairly easy to implement. The idea is to use an adaptive grid, where the grid depends on the local density of the data.  This is accomplished by calculating the k'th nearest neighbor for each point, and then defining a box around each point that just barely extends to include the k'th nearest neighbor. Importantly, the size of the box is also used in the marginal entropy calculations\n",
        "\n",
        "To get some intuition for the method, check out [this demonstration on Wolfram Alpha's site](https://demonstrations.wolfram.com/KraskovKSGEstimatorOfMutualInformation/).  Here is a screenshot of their UI:\n",
        "\n",
        "![Wolfram UI](https://raw.githubusercontent.com/wingated/cs473/main/labs/images/lab_week_6_image1.png)"
      ]
    },
    {
      "cell_type": "markdown",
      "metadata": {
        "id": "GrQZmJ4L9cEx"
      },
      "source": [
        "The algorithm is fairly straightforward.  We are given N samples from the joint distribution of p(X,Y). First, we calculate the *local mutual information* for each data point:\n",
        "\n",
        "1. For each datapoint $d_j = (x_j,y_j)$\n",
        "2. Find the k'th nearest neighbor (call this point $n_j$) -- you should use the infinity norm (max norm), and distance should be calculated using both coordinates (ie, don't just calculate distances using only the x or y coordinate)\n",
        "3. Count the number of points in x whose 'x-distance' fall within the distance to the k'th nearest neighbor (calculated above) of $d_j$ (ie, ignore y); call this number $n_{x{_j}}$.  Do the same for the points in y (these are the shaded gray boxes in the image); call it $n_{y{_j}}$.\n",
        "\n",
        "Then, we calculate the final mutual information by averaging over all of the datapoints and adding a few more digamma calls:\n",
        "\n",
        "![final mutual information](https://raw.githubusercontent.com/wingated/cs473/main/labs/images/lab_week_6_image3.png)\n",
        "\n",
        "where $\\Psi$ is the digamma function\n",
        "\n",
        "If you want more details on the implementation, see page 2 of [Estimating Mutual Information](https://arxiv.org/pdf/cond-mat/0305641)"
      ]
    },
    {
      "cell_type": "code",
      "execution_count": 23,
      "metadata": {
        "id": "_XyXzpvE9cEx"
      },
      "outputs": [],
      "source": [
        "from scipy.special import digamma\n",
        "\n",
        "\n",
        "def mutual_inf(X, Y, k=3):\n",
        "    # X and Y are lists of length n of samples from p(X,Y)\n",
        "    # this function returns a single scalar\n",
        "\n",
        "    n = len(X)\n",
        "    mi = 0.0\n",
        "\n",
        "    # Compare every row of data to every other row\n",
        "    for j in range(n):\n",
        "        k_smallest = []\n",
        "        x_diffs = []\n",
        "        y_diffs = []\n",
        "\n",
        "        for i in range(n):\n",
        "            if j == i:\n",
        "                continue\n",
        "\n",
        "            # Find the largest distance between X-values and Y-values\n",
        "            x_diffs.append(abs(X[j] - X[i]))\n",
        "            y_diffs.append(abs(Y[j] - Y[i]))\n",
        "\n",
        "            # Find the overall max distance\n",
        "            max_diff = max(x_diffs[-1], y_diffs[-1])\n",
        "\n",
        "            # Save the k smallest max distances between data[j] and all other rows\n",
        "            if len(k_smallest) < k:\n",
        "                k_smallest.append(max_diff)\n",
        "\n",
        "            else:\n",
        "                for index in range(len(k_smallest)):\n",
        "                    if max_diff < k_smallest[index]:\n",
        "                        temp = k_smallest[index]\n",
        "                        k_smallest[index] = max_diff\n",
        "                        max_diff = temp\n",
        "\n",
        "        # at this point, k_smallest contains the k smallest distances for point j\n",
        "        # the k-th nearest neighbor distance is k_smallest[-1]\n",
        "\n",
        "\n",
        "        # Count how many times the largest distance between X-values and Y-values is less than the k-th smallest distance\n",
        "        n_xj = sum(1 for d in x_diffs if d <= k_smallest[-1])\n",
        "        n_yj = sum(1 for d in y_diffs if d <= k_smallest[-1])\n",
        "\n",
        "        mi += digamma(k) - digamma(n_xj + 1) - digamma(n_yj + 1) + digamma(n)\n",
        "\n",
        "    return mi / n"
      ]
    },
    {
      "cell_type": "markdown",
      "metadata": {
        "id": "TcAeeGnO9cEx"
      },
      "source": [
        "---\n",
        "## Part 2:\n",
        "\n",
        "Now that you can estimate mutual information between two variables, we're going to use your method in the context of a regression problem.\n",
        "\n",
        "Given our X,y data from the beginning of the lab, run your function and calculate the mutual information between every column of X and y.  This should result in a list of scores, that might look something like this:\n",
        "\n",
        "```python\n",
        "array([1.2641203602210282, 0.07974959311825458, 0.03321433628330617, 0.02213361087954091, 0.0, 0.0, 0.0])\n",
        "```\n",
        "\n",
        "If you wrap this in a single function (call it \"all_mutual_inf\"), then you can use scikit learn's feature selection algorithms:"
      ]
    },
    {
      "cell_type": "code",
      "execution_count": 24,
      "metadata": {
        "id": "-Yp1DQ5A9cEy"
      },
      "outputs": [],
      "source": [
        "def all_mutual_inf( X, y, k = 3 ):\n",
        "    # return a list of mutual informations\n",
        "    # the list should be as long as the number of columns in X\n",
        "\n",
        "    mi_scores = []\n",
        "    for i in range(X.shape[1]):  # Iterate over each feature (column) in X\n",
        "        mi_score = mutual_inf(X[:, i], y, k)  # Compute MI for the i-th feature\n",
        "        mi_scores.append(mi_score)\n",
        "\n",
        "    # SelectKBest expects two outputs: scores and p-values.\n",
        "    # Since we don't have p-values for this MI estimator,\n",
        "    # return a dummy array of zeros for the p-values.\n",
        "    return mi_scores, np.zeros(len(mi_scores))"
      ]
    },
    {
      "cell_type": "code",
      "execution_count": 30,
      "metadata": {
        "colab": {
          "base_uri": "https://localhost:8080/"
        },
        "id": "Qq8wwBVk9cEy",
        "outputId": "c0bebcff-09ff-4e6a-e3ce-9eb5c225b8de"
      },
      "outputs": [
        {
          "output_type": "stream",
          "name": "stdout",
          "text": [
            "[[ 0.00000000e+00 -4.24611223e+00]\n",
            " [ 1.01010101e-01 -1.18112789e+00]\n",
            " [ 2.02020202e-01 -8.66527388e-01]\n",
            " [ 3.03030303e-01 -2.16440757e+00]\n",
            " [ 4.04040404e-01 -1.60624812e-01]\n",
            " [ 5.05050505e-01  1.61619297e+00]\n",
            " [ 6.06060606e-01  6.14340619e+00]\n",
            " [ 7.07070707e-01  1.08939000e+00]\n",
            " [ 8.08080808e-01  1.41911582e+00]\n",
            " [ 9.09090909e-01  5.03934980e-01]\n",
            " [ 1.01010101e+00 -4.94823284e+00]\n",
            " [ 1.11111111e+00  8.09347263e-01]\n",
            " [ 1.21212121e+00  1.15038760e+00]\n",
            " [ 1.31313131e+00  8.44023139e+00]\n",
            " [ 1.41414141e+00  5.54230237e-01]\n",
            " [ 1.51515152e+00  2.11676324e+00]\n",
            " [ 1.61616162e+00  1.18879398e+00]\n",
            " [ 1.71717172e+00 -2.13229674e+00]\n",
            " [ 1.81818182e+00  4.88301390e+00]\n",
            " [ 1.91919192e+00  3.79115263e+00]\n",
            " [ 2.02020202e+00  3.98925746e+00]\n",
            " [ 2.12121212e+00 -1.03119267e+00]\n",
            " [ 2.22222222e+00  5.98616071e+00]\n",
            " [ 2.32323232e+00 -2.34696733e+00]\n",
            " [ 2.42424242e+00  3.69996522e+00]\n",
            " [ 2.52525253e+00  8.59156890e+00]\n",
            " [ 2.62626263e+00 -8.70598874e-01]\n",
            " [ 2.72727273e+00  4.82924993e-01]\n",
            " [ 2.82828283e+00  2.56158036e+00]\n",
            " [ 2.92929293e+00  8.33007381e-01]\n",
            " [ 3.03030303e+00 -2.22774787e+00]\n",
            " [ 3.13131313e+00  2.71073943e+00]\n",
            " [ 3.23232323e+00 -6.01052555e-01]\n",
            " [ 3.33333333e+00  4.08744396e+00]\n",
            " [ 3.43434343e+00 -1.07979552e-02]\n",
            " [ 3.53535354e+00  7.47808604e+00]\n",
            " [ 3.63636364e+00  5.59331032e-01]\n",
            " [ 3.73737374e+00  2.02371444e+00]\n",
            " [ 3.83838384e+00  5.51125872e+00]\n",
            " [ 3.93939394e+00 -5.41077798e-01]\n",
            " [ 4.04040404e+00  3.91470304e+00]\n",
            " [ 4.14141414e+00  7.23455958e+00]\n",
            " [ 4.24242424e+00 -1.42851031e+00]\n",
            " [ 4.34343434e+00  4.02864905e+00]\n",
            " [ 4.44444444e+00  4.33520394e+00]\n",
            " [ 4.54545455e+00  5.98183225e+00]\n",
            " [ 4.64646465e+00  6.31958454e-03]\n",
            " [ 4.74747475e+00 -1.63390041e-01]\n",
            " [ 4.84848485e+00  5.44461258e+00]\n",
            " [ 4.94949495e+00  4.85054998e+00]\n",
            " [ 5.05050505e+00  4.79188259e+00]\n",
            " [ 5.15151515e+00  5.16055675e+00]\n",
            " [ 5.25252525e+00  2.16194604e+00]\n",
            " [ 5.35353535e+00  4.97958937e+00]\n",
            " [ 5.45454545e+00  5.24285378e+00]\n",
            " [ 5.55555556e+00  2.30139019e+00]\n",
            " [ 5.65656566e+00  1.01225761e+01]\n",
            " [ 5.75757576e+00  6.02755937e+00]\n",
            " [ 5.85858586e+00  1.11295820e+00]\n",
            " [ 5.95959596e+00  6.73733759e+00]\n",
            " [ 6.06060606e+00  1.92443984e+00]\n",
            " [ 6.16161616e+00  7.29054674e+00]\n",
            " [ 6.26262626e+00  8.48588775e+00]\n",
            " [ 6.36363636e+00  2.62886214e+00]\n",
            " [ 6.46464646e+00  8.06184556e+00]\n",
            " [ 6.56565657e+00  6.49086803e+00]\n",
            " [ 6.66666667e+00  7.79951381e+00]\n",
            " [ 6.76767677e+00  1.11045204e+01]\n",
            " [ 6.86868687e+00  4.75878515e+00]\n",
            " [ 6.96969697e+00  3.31454908e+00]\n",
            " [ 7.07070707e+00  2.98802237e+00]\n",
            " [ 7.17171717e+00  3.28994288e+00]\n",
            " [ 7.27272727e+00  5.58687669e+00]\n",
            " [ 7.37373737e+00  6.92244582e+00]\n",
            " [ 7.47474747e+00  6.80987038e+00]\n",
            " [ 7.57575758e+00  8.54215581e+00]\n",
            " [ 7.67676768e+00  6.18041982e+00]\n",
            " [ 7.77777778e+00  1.05828245e+01]\n",
            " [ 7.87878788e+00  5.50905980e+00]\n",
            " [ 7.97979798e+00  1.45443459e+01]\n",
            " [ 8.08080808e+00  8.34164851e+00]\n",
            " [ 8.18181818e+00  3.97398188e+00]\n",
            " [ 8.28282828e+00  3.41358513e+00]\n",
            " [ 8.38383838e+00  8.15448795e+00]\n",
            " [ 8.48484848e+00  6.11749043e+00]\n",
            " [ 8.58585859e+00  9.01068835e+00]\n",
            " [ 8.68686869e+00  8.36920782e+00]\n",
            " [ 8.78787879e+00  6.81181629e+00]\n",
            " [ 8.88888889e+00  4.57072996e+00]\n",
            " [ 8.98989899e+00  2.64737752e+00]\n",
            " [ 9.09090909e+00  5.93318242e+00]\n",
            " [ 9.19191919e+00  9.92273174e+00]\n",
            " [ 9.29292929e+00  8.07662467e+00]\n",
            " [ 9.39393939e+00  3.77793518e+00]\n",
            " [ 9.49494949e+00  8.11550237e+00]\n",
            " [ 9.59595960e+00  8.83271982e+00]\n",
            " [ 9.69696970e+00  5.10600345e+00]\n",
            " [ 9.79797980e+00  8.29955916e+00]\n",
            " [ 9.89898990e+00  8.09381807e+00]\n",
            " [ 1.00000000e+01  4.57108911e+00]]\n",
            "\n",
            "Most informative features: [0 1]\n"
          ]
        }
      ],
      "source": [
        "from sklearn.feature_selection import SelectKBest\n",
        "\n",
        "selector = SelectKBest(all_mutual_inf, k=2)\n",
        "X_new = selector.fit_transform(X, y)\n",
        "top_features = selector.get_support(indices=True)\n",
        "\n",
        "print(X_new)\n",
        "print(\"\\nMost informative features:\", top_features)"
      ]
    },
    {
      "cell_type": "markdown",
      "metadata": {
        "id": "M3cFeALY9cEy"
      },
      "source": [
        "So: which X features are most informative about y?\n",
        "\n",
        "Most informative features: [0 1]"
      ]
    },
    {
      "cell_type": "markdown",
      "metadata": {
        "id": "yao5zAC99cEy"
      },
      "source": [
        "---\n",
        "## Hints\n",
        "\n",
        "The following functions may be useful to you: scipy.special.digamma"
      ]
    },
    {
      "cell_type": "markdown",
      "metadata": {
        "id": "MC2MxY-l9cEy"
      },
      "source": [
        "For fun, you could also [read more about the KSG estimator](https://arxiv.org/pdf/1604.03006)."
      ]
    }
  ],
  "metadata": {
    "colab": {
      "provenance": []
    },
    "kernelspec": {
      "display_name": "Python 3 (ipykernel)",
      "language": "python",
      "name": "python3"
    },
    "language_info": {
      "codemirror_mode": {
        "name": "ipython",
        "version": 3
      },
      "file_extension": ".py",
      "mimetype": "text/x-python",
      "name": "python",
      "nbconvert_exporter": "python",
      "pygments_lexer": "ipython3",
      "version": "3.11.4"
    }
  },
  "nbformat": 4,
  "nbformat_minor": 0
}